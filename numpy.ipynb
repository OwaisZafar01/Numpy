{
 "cells": [
  {
   "cell_type": "markdown",
   "id": "522d5b82-f4ba-4b7b-9063-a666074609c8",
   "metadata": {},
   "source": [
    "# Numpy Complete Revision\n"
   ]
  },
  {
   "cell_type": "markdown",
   "id": "7b7f366d-8f15-47be-af2f-d822521ad0fe",
   "metadata": {},
   "source": [
    "## Python List vs Numpy Array"
   ]
  },
  {
   "cell_type": "code",
   "execution_count": 2,
   "id": "4de456c9-ce30-4d4f-aa8c-79d3385b14e6",
   "metadata": {},
   "outputs": [
    {
     "name": "stdout",
     "output_type": "stream",
     "text": [
      "0.030363082885742188\n",
      "0.0017430782318115234\n",
      "How much faster is numpy array with python list in this situation 17.41923129530844\n"
     ]
    }
   ],
   "source": [
    "\n",
    "import numpy as np \n",
    "# speed/ Time Comparison\n",
    "# Python List\n",
    "import time\n",
    "a = [i for i in range(100000)]\n",
    "b = [i for i in range(100000, 200000)]\n",
    "c = []\n",
    "start = time.time()\n",
    "for i in range(len(a)):\n",
    "    c.append(a[i]+b[i])\n",
    "end1 = time.time()-start\n",
    "print(end1)\n",
    "\n",
    "# Numy array\n",
    "a = np.arange(100000)\n",
    "b = np.arange(100000, 200000)\n",
    "start = time.time()\n",
    "c = a + b\n",
    "end2 = time.time()-start\n",
    "print(end2)\n",
    "\n",
    "print('How much faster is numpy array with python list in this situation', end1/end2)"
   ]
  },
  {
   "cell_type": "markdown",
   "id": "5cf5b257-ef4d-4910-be39-182c1690bf34",
   "metadata": {},
   "source": [
    "## Creating Numpy Array"
   ]
  },
  {
   "cell_type": "code",
   "execution_count": 2,
   "id": "6a56aa2d-889f-4d74-91cd-6c616c936df6",
   "metadata": {},
   "outputs": [
    {
     "name": "stdout",
     "output_type": "stream",
     "text": [
      "[ 1  2  3  4  5  6  7  8  9 10]\n",
      "<class 'numpy.ndarray'>\n"
     ]
    }
   ],
   "source": [
    "### create 1d Array\n",
    "a = np.array([1,2,3,4,5,6,7,8,9,10])\n",
    "print(a)\n",
    "print(type(a))\n"
   ]
  },
  {
   "cell_type": "code",
   "execution_count": 8,
   "id": "68fcea9d-3d97-42e9-aede-f2d8082efd0a",
   "metadata": {
    "scrolled": true
   },
   "outputs": [
    {
     "name": "stdout",
     "output_type": "stream",
     "text": [
      "[[1 2 3]\n",
      " [4 5 6]\n",
      " [7 8 9]]\n"
     ]
    }
   ],
   "source": [
    "# Create 2d Array\n",
    "a = np.array([[1,2,3],[4,5,6],[7,8,9]])\n",
    "print(a)"
   ]
  },
  {
   "cell_type": "code",
   "execution_count": 9,
   "id": "9d85c983-8bb1-4e74-bbae-77e74b3a5679",
   "metadata": {},
   "outputs": [
    {
     "name": "stdout",
     "output_type": "stream",
     "text": [
      "[[[1 2 3]\n",
      "  [4 5 6]\n",
      "  [7 8 9]]]\n"
     ]
    }
   ],
   "source": [
    "# Create 3d Array\n",
    "a = np.array([[[1,2,3],[4,5,6],[7,8,9]]])\n",
    "print(a)"
   ]
  },
  {
   "cell_type": "code",
   "execution_count": 4,
   "id": "81bb8abe-667c-48d5-8710-1036a9e88276",
   "metadata": {},
   "outputs": [
    {
     "name": "stdout",
     "output_type": "stream",
     "text": [
      "[ 1.  2.  3.  4.  5.  6.  7.  8.  9. 10.]\n",
      "float64\n"
     ]
    }
   ],
   "source": [
    "# dtype\n",
    "a = np.array([1,2,3,4,5,6,7,8,9,10], dtype = float)\n",
    "print(a)\n",
    "print(a.dtype)"
   ]
  },
  {
   "cell_type": "code",
   "execution_count": 11,
   "id": "8b6deeea-fd49-43f4-ba10-84e3d72a3e4c",
   "metadata": {
    "scrolled": true
   },
   "outputs": [
    {
     "data": {
      "text/plain": [
       "array([ 1,  2,  3,  4,  5,  6,  7,  8,  9, 10])"
      ]
     },
     "execution_count": 11,
     "metadata": {},
     "output_type": "execute_result"
    }
   ],
   "source": [
    "# arange method\n",
    "np.arange(1,11)"
   ]
  },
  {
   "cell_type": "code",
   "execution_count": 12,
   "id": "e9d68c1d-7d11-41cd-9424-befe38812e87",
   "metadata": {},
   "outputs": [
    {
     "name": "stdout",
     "output_type": "stream",
     "text": [
      "[ 1  2  3  4  5  6  7  8  9 10]\n"
     ]
    }
   ],
   "source": [
    "a = np.arange(1,11)\n",
    "print(a)"
   ]
  },
  {
   "cell_type": "code",
   "execution_count": 14,
   "id": "b73930ea-83f1-4af1-9ed6-9ad3c084c9b7",
   "metadata": {},
   "outputs": [
    {
     "name": "stdout",
     "output_type": "stream",
     "text": [
      "[[1 2 3]\n",
      " [4 5 6]\n",
      " [7 8 9]]\n"
     ]
    }
   ],
   "source": [
    "# reshape\n",
    "a = np.array([1,2,3,4,5,6,7,8,9]).reshape(3,3)\n",
    "print(a)"
   ]
  },
  {
   "cell_type": "code",
   "execution_count": 32,
   "id": "4e1c43af-9916-4f30-a72a-8750b8d7569d",
   "metadata": {},
   "outputs": [
    {
     "name": "stdout",
     "output_type": "stream",
     "text": [
      "[[[[ 0  1]\n",
      "   [ 2  3]]\n",
      "\n",
      "  [[ 4  5]\n",
      "   [ 6  7]]]\n",
      "\n",
      "\n",
      " [[[ 8  9]\n",
      "   [10 11]]\n",
      "\n",
      "  [[12 13]\n",
      "   [14 15]]]]\n"
     ]
    }
   ],
   "source": [
    "a = np.arange(16).reshape(2,2,2,2)\n",
    "print(a)\n"
   ]
  },
  {
   "cell_type": "code",
   "execution_count": 17,
   "id": "edbcbe6b-5e5b-4293-b451-59183ef64d32",
   "metadata": {},
   "outputs": [
    {
     "name": "stdout",
     "output_type": "stream",
     "text": [
      "[[1. 1. 1. 1.]\n",
      " [1. 1. 1. 1.]\n",
      " [1. 1. 1. 1.]]\n",
      "\n",
      "\n",
      "[[0. 0. 0. 0.]\n",
      " [0. 0. 0. 0.]\n",
      " [0. 0. 0. 0.]\n",
      " [0. 0. 0. 0.]]\n"
     ]
    }
   ],
   "source": [
    "# ones and zeros\n",
    "a = np.ones((3,4))\n",
    "print(a)\n",
    "print('\\n')\n",
    "b = np.zeros((4,4))\n",
    "print(b)"
   ]
  },
  {
   "cell_type": "code",
   "execution_count": 18,
   "id": "83cff1c0-041c-4adb-be51-40f6f8b2da89",
   "metadata": {},
   "outputs": [
    {
     "name": "stdout",
     "output_type": "stream",
     "text": [
      "[[0.83509885 0.53877374]\n",
      " [0.03434548 0.68047562]]\n"
     ]
    }
   ],
   "source": [
    "# random values between 0 to 1\n",
    "\n",
    "a = np.random.random((2,2))\n",
    "print(a)"
   ]
  },
  {
   "cell_type": "code",
   "execution_count": 19,
   "id": "4e81ccf6-ff72-4445-a787-1fbfebd79857",
   "metadata": {},
   "outputs": [
    {
     "name": "stdout",
     "output_type": "stream",
     "text": [
      "[49 96 30 89 43]\n"
     ]
    }
   ],
   "source": [
    "a = np.random.randint(1,100, 5)\n",
    "print(a)"
   ]
  },
  {
   "cell_type": "code",
   "execution_count": 25,
   "id": "06f00ac8-0af2-4bc4-b12b-64dfeb176fe3",
   "metadata": {},
   "outputs": [
    {
     "name": "stdout",
     "output_type": "stream",
     "text": [
      "[[13 16  1]\n",
      " [ 4  4  8]\n",
      " [10 19  5]]\n"
     ]
    }
   ],
   "source": [
    "a = np.random.randint(1,20, ((3,3)))\n",
    "np.random.seed(0)\n",
    "print(a)"
   ]
  },
  {
   "cell_type": "code",
   "execution_count": 31,
   "id": "30f78d8f-8c9a-4c12-bc53-c27312bd3397",
   "metadata": {},
   "outputs": [
    {
     "name": "stdout",
     "output_type": "stream",
     "text": [
      "[ 10  20  30  40  50  60  70  80  90 100]\n"
     ]
    }
   ],
   "source": [
    "# np.linspace means equal distance points between range \n",
    "a = np.linspace(10,100,10, dtype=int)\n",
    "print(a)"
   ]
  },
  {
   "cell_type": "code",
   "execution_count": 27,
   "id": "09ec9ff2-d860-4c32-84c8-08d0cb91383e",
   "metadata": {},
   "outputs": [
    {
     "name": "stdout",
     "output_type": "stream",
     "text": [
      "[[1. 0. 0.]\n",
      " [0. 1. 0.]\n",
      " [0. 0. 1.]]\n"
     ]
    }
   ],
   "source": [
    "# identity matrix\n",
    "a = np.identity(3)\n",
    "print(a)"
   ]
  },
  {
   "cell_type": "code",
   "execution_count": 28,
   "id": "87d1766a-d634-4c91-b8d0-034859edbba2",
   "metadata": {},
   "outputs": [
    {
     "name": "stdout",
     "output_type": "stream",
     "text": [
      "[[1. 0. 0.]\n",
      " [0. 1. 0.]\n",
      " [0. 0. 1.]]\n"
     ]
    }
   ],
   "source": [
    "a = np.eye(3)\n",
    "print(a)"
   ]
  },
  {
   "cell_type": "markdown",
   "id": "e166b6bc-8a56-402a-80eb-82d1d8c0da20",
   "metadata": {},
   "source": [
    "## Numpy Array Attributes"
   ]
  },
  {
   "cell_type": "code",
   "execution_count": 5,
   "id": "3fb449a5-442b-4892-8f78-47ef7dd3173b",
   "metadata": {},
   "outputs": [
    {
     "name": "stdout",
     "output_type": "stream",
     "text": [
      "1\n",
      "2\n",
      "3\n"
     ]
    }
   ],
   "source": [
    "# ndim \n",
    "a1 = np.arange(10)\n",
    "a2 = np.arange(12).reshape(3,4)\n",
    "a3 = np.arange(8).reshape(2,2,2)\n",
    "\n",
    "print(a1.ndim)\n",
    "print(a2.ndim)\n",
    "print(a3.ndim)"
   ]
  },
  {
   "cell_type": "code",
   "execution_count": 34,
   "id": "f0089e9d-9348-47c3-8b95-2155c285e203",
   "metadata": {},
   "outputs": [
    {
     "name": "stdout",
     "output_type": "stream",
     "text": [
      "(10,)\n",
      "(3, 4)\n",
      "(2, 2, 2)\n"
     ]
    }
   ],
   "source": [
    "# shape\n",
    "print(a1.shape)\n",
    "print(a2.shape)\n",
    "print(a3.shape)"
   ]
  },
  {
   "cell_type": "code",
   "execution_count": 6,
   "id": "3015a71b-3145-414e-b569-3867179628f5",
   "metadata": {},
   "outputs": [
    {
     "name": "stdout",
     "output_type": "stream",
     "text": [
      "10\n",
      "12\n",
      "8\n"
     ]
    }
   ],
   "source": [
    "# Size \n",
    "print(a1.size)\n",
    "print(a2.size)\n",
    "print(a3.size)"
   ]
  },
  {
   "cell_type": "code",
   "execution_count": 7,
   "id": "2772e6c2-af30-48fc-a722-6fbb4affc53a",
   "metadata": {},
   "outputs": [
    {
     "name": "stdout",
     "output_type": "stream",
     "text": [
      "8\n",
      "8\n",
      "8\n"
     ]
    }
   ],
   "source": [
    "# Item size Memory me kitni space le rha hai in kbs\n",
    "print(a1.itemsize)\n",
    "print(a2.itemsize)\n",
    "print(a3.itemsize)"
   ]
  },
  {
   "cell_type": "code",
   "execution_count": 8,
   "id": "f518da27-e66a-47b9-9426-7c9cd229d655",
   "metadata": {},
   "outputs": [
    {
     "name": "stdout",
     "output_type": "stream",
     "text": [
      "int64\n",
      "int64\n",
      "int64\n"
     ]
    }
   ],
   "source": [
    "# dtype\n",
    "print(a1.dtype)\n",
    "print(a2.dtype)\n",
    "print(a3.dtype)"
   ]
  },
  {
   "cell_type": "markdown",
   "id": "0e9b1610-31c1-45f7-a8ba-9ed6123d4f4a",
   "metadata": {},
   "source": [
    "## Changing DataType"
   ]
  },
  {
   "cell_type": "code",
   "execution_count": 15,
   "id": "cfca4d6e-d3cb-4cd5-be90-f1d564589541",
   "metadata": {},
   "outputs": [
    {
     "name": "stdout",
     "output_type": "stream",
     "text": [
      "<U21\n",
      "int64\n",
      "<U21\n",
      "['0' '1' '2' '3' '4' '5' '6' '7' '8' '9']\n",
      "[ True  True  True  True  True  True  True  True  True  True]\n"
     ]
    }
   ],
   "source": [
    "# astype\n",
    "print(a1.dtype)\n",
    "a1 = a1.astype(int)\n",
    "print(a1.dtype)\n",
    "a1 = a1.astype(str)\n",
    "print(a1.dtype)\n",
    "print(a1)\n",
    "a1 = a1.astype(bool)\n",
    "print(a1)"
   ]
  },
  {
   "cell_type": "markdown",
   "id": "60088f43-66c9-416d-82b0-58e20621e876",
   "metadata": {},
   "source": [
    "## Aray Operations"
   ]
  },
  {
   "cell_type": "code",
   "execution_count": 17,
   "id": "2ada9890-4c18-47ed-ab63-aa6f7c0f1dd1",
   "metadata": {},
   "outputs": [
    {
     "name": "stdout",
     "output_type": "stream",
     "text": [
      "[[ 0  1  2  3]\n",
      " [ 4  5  6  7]\n",
      " [ 8  9 10 11]]\n",
      "\n",
      "\n",
      "[[12 13 14 15]\n",
      " [16 17 18 19]\n",
      " [20 21 22 23]]\n"
     ]
    }
   ],
   "source": [
    "n1 = np.arange(12).reshape(3,4)\n",
    "n2 = np.arange(12,24).reshape(3,4)\n",
    "\n",
    "print(n1)\n",
    "print('\\n')\n",
    "print(n2)"
   ]
  },
  {
   "cell_type": "code",
   "execution_count": 18,
   "id": "d42399e0-afc6-4570-ac00-80ebdbee67f2",
   "metadata": {},
   "outputs": [
    {
     "name": "stdout",
     "output_type": "stream",
     "text": [
      "[[ 0  5 10 15]\n",
      " [20 25 30 35]\n",
      " [40 45 50 55]]\n",
      "[[0 0 1 1]\n",
      " [2 2 3 3]\n",
      " [4 4 5 5]]\n",
      "[[0 1 0 1]\n",
      " [0 1 0 1]\n",
      " [0 1 0 1]]\n",
      "[[-2 -1  0  1]\n",
      " [ 2  3  4  5]\n",
      " [ 6  7  8  9]]\n"
     ]
    }
   ],
   "source": [
    "# Scalar Operations\n",
    "x = n1 * 5\n",
    "print(x)\n",
    "x = n1 // 2\n",
    "print(x)\n",
    "x = n1 % 2\n",
    "print(x)\n",
    "x = n1 - 2\n",
    "print(x)\n"
   ]
  },
  {
   "cell_type": "code",
   "execution_count": 22,
   "id": "005f56fb-30f5-44d9-ab81-6b22e3c22b1d",
   "metadata": {},
   "outputs": [
    {
     "name": "stdout",
     "output_type": "stream",
     "text": [
      "[[False False False False]\n",
      " [False False False False]\n",
      " [False False False False]]\n",
      "[[False False False False]\n",
      " [False False False False]\n",
      " [False False False False]]\n"
     ]
    }
   ],
   "source": [
    "# Relational \n",
    "x = n2 > 15\n",
    "print(x)\n",
    "\n",
    "x = n2 == 15\n",
    "print(x)"
   ]
  },
  {
   "cell_type": "code",
   "execution_count": 23,
   "id": "c345ec42-8ab3-4597-98f0-d989bd8ed7f1",
   "metadata": {},
   "outputs": [
    {
     "name": "stdout",
     "output_type": "stream",
     "text": [
      "[[ 0  1  2  3]\n",
      " [ 5  6  7  8]\n",
      " [ 9 10 11 12]]\n"
     ]
    }
   ],
   "source": [
    "# Vector Operations\n",
    "x = n1 + n2\n",
    "print(x)"
   ]
  },
  {
   "cell_type": "markdown",
   "id": "e5ae86c7-2980-4ff6-84ae-9ad48093bca2",
   "metadata": {},
   "source": [
    "## Array Functions"
   ]
  },
  {
   "cell_type": "code",
   "execution_count": 35,
   "id": "e4dba9fa-a1f5-4f34-8cfe-09b7ee601ab7",
   "metadata": {
    "scrolled": true
   },
   "outputs": [
    {
     "name": "stdout",
     "output_type": "stream",
     "text": [
      "[[55. 72. 60. 54.]\n",
      " [42. 65. 44. 89.]\n",
      " [96. 38. 79. 53.]]\n"
     ]
    }
   ],
   "source": [
    "a1 = np.random.random((3,4))\n",
    "np.random.seed(0)\n",
    "a1 = np.round(a1 * 100)\n",
    "print(a1)"
   ]
  },
  {
   "cell_type": "code",
   "execution_count": 36,
   "id": "ff1fa091-37b7-4dc8-8652-72420b29c5ab",
   "metadata": {},
   "outputs": [
    {
     "name": "stdout",
     "output_type": "stream",
     "text": [
      "96.0\n",
      "38.0\n",
      "747.0\n",
      "2.0950930532274463e+21\n"
     ]
    }
   ],
   "source": [
    "# max/min/sum/product\n",
    "print(np.max(a1))\n",
    "print(np.min(a1))\n",
    "print(np.sum(a1))\n",
    "print(np.prod(a1))\n"
   ]
  },
  {
   "cell_type": "code",
   "execution_count": 40,
   "id": "93446fdb-9575-45de-ba93-d9b447a602ea",
   "metadata": {},
   "outputs": [
    {
     "name": "stdout",
     "output_type": "stream",
     "text": [
      "[72. 89. 96.]\n",
      "[96. 72. 79. 89.]\n",
      "\n",
      "\n",
      "[54. 42. 38.]\n",
      "[42. 38. 44. 53.]\n",
      "\n",
      "\n"
     ]
    }
   ],
   "source": [
    "# Axis \n",
    "# 0 for column 1 for row\n",
    "\n",
    "print(np.max(a1, axis=1))\n",
    "print(np.max(a1, axis=0))\n",
    "print('\\n')\n",
    "print(np.min(a1, axis=1))\n",
    "print(np.min(a1, axis=0))\n",
    "print('\\n')\n"
   ]
  },
  {
   "cell_type": "code",
   "execution_count": 42,
   "id": "2910b73c-adfb-4b2c-bf90-c9e0dd229367",
   "metadata": {},
   "outputs": [
    {
     "name": "stdout",
     "output_type": "stream",
     "text": [
      "[60.25 60.   66.5 ]\n",
      "\n",
      "\n",
      "[57.5 54.5 66. ]\n",
      "\n",
      "\n"
     ]
    }
   ],
   "source": [
    "# mean/median/mode/std/var\n",
    "print(np.mean(a1, axis=1))\n",
    "print('\\n')\n",
    "print(np.median(a1, axis=1))\n",
    "print('\\n')"
   ]
  },
  {
   "cell_type": "code",
   "execution_count": 44,
   "id": "946a481a-1f1c-4dbc-be50-44d2bb63ade2",
   "metadata": {},
   "outputs": [
    {
     "name": "stdout",
     "output_type": "stream",
     "text": [
      "[[114 120 126]\n",
      " [378 400 422]\n",
      " [642 680 718]]\n"
     ]
    }
   ],
   "source": [
    "# Dot Product\n",
    "\n",
    "a1 = np.arange(12).reshape(3,4)\n",
    "a2 = np.arange(12,24).reshape(4,3)\n",
    "\n",
    "dot = np.dot(a1, a2)\n",
    "print(dot)\n"
   ]
  },
  {
   "cell_type": "code",
   "execution_count": 46,
   "id": "b887d437-a5f6-4e39-baee-b592413f5013",
   "metadata": {},
   "outputs": [
    {
     "name": "stdout",
     "output_type": "stream",
     "text": [
      "[[2.48490665 2.56494936 2.63905733]\n",
      " [2.7080502  2.77258872 2.83321334]\n",
      " [2.89037176 2.94443898 2.99573227]\n",
      " [3.04452244 3.09104245 3.13549422]]\n",
      "[[1.62754791e+05 4.42413392e+05 1.20260428e+06]\n",
      " [3.26901737e+06 8.88611052e+06 2.41549528e+07]\n",
      " [6.56599691e+07 1.78482301e+08 4.85165195e+08]\n",
      " [1.31881573e+09 3.58491285e+09 9.74480345e+09]]\n"
     ]
    }
   ],
   "source": [
    "# log and exp\n",
    "\n",
    "a = np.log(a2)\n",
    "b = np.exp(a2)\n",
    "print(a)\n",
    "print(b)"
   ]
  },
  {
   "cell_type": "code",
   "execution_count": 7,
   "id": "9f9fb663-a184-4445-985d-4dd407c8d277",
   "metadata": {},
   "outputs": [
    {
     "name": "stdout",
     "output_type": "stream",
     "text": [
      "[[58.66122169 42.54809328  0.8930338 ]\n",
      " [81.73032671 60.57353412 78.36178092]\n",
      " [75.89455267 90.54391575 88.57757866]]\n",
      "\n",
      "\n",
      "[[59. 43.  1.]\n",
      " [82. 61. 78.]\n",
      " [76. 91. 89.]]\n",
      "\n",
      "\n",
      "[[59. 43.  1.]\n",
      " [82. 61. 78.]\n",
      " [76. 91. 89.]]\n",
      "\n",
      "\n",
      "[[59. 43.  1.]\n",
      " [82. 61. 78.]\n",
      " [76. 91. 89.]]\n"
     ]
    }
   ],
   "source": [
    "# round means nearest\n",
    "# floor means peche ki taraf jayega\n",
    "# ceil means upar ki taraf jayega\n",
    "\n",
    "a1 = np.random.random((3,3))\n",
    "a1 = a1 * 100\n",
    "print(a1)\n",
    "print('\\n')\n",
    "a1 = np.round(a1)\n",
    "print(a1)\n",
    "print('\\n')\n",
    "a2 = np.floor(a1)\n",
    "print(a2)\n",
    "print('\\n')\n",
    "a3 = np.ceil(a1)\n",
    "print(a3)"
   ]
  },
  {
   "cell_type": "markdown",
   "id": "02284874-f33b-4c73-8143-57b0bc230ab8",
   "metadata": {},
   "source": [
    "## Indexing and Slicing"
   ]
  },
  {
   "cell_type": "code",
   "execution_count": 55,
   "id": "498d96ee-4904-423b-9d96-56884910f91c",
   "metadata": {},
   "outputs": [
    {
     "name": "stdout",
     "output_type": "stream",
     "text": [
      "[0 1 2 3 4 5 6 7 8 9]\n",
      "\n",
      "\n",
      "[[ 0  1  2  3]\n",
      " [ 4  5  6  7]\n",
      " [ 8  9 10 11]]\n",
      "\n",
      "\n",
      "[[[0 1]\n",
      "  [2 3]]\n",
      "\n",
      " [[4 5]\n",
      "  [6 7]]]\n",
      "\n",
      "\n"
     ]
    }
   ],
   "source": [
    "a1 = np.arange(10)\n",
    "a2 = np.arange(12).reshape(3,4)\n",
    "a3 = np.arange(8).reshape(2,2,2)\n",
    "print(a1)\n",
    "print('\\n')\n",
    "print(a2)\n",
    "print('\\n')\n",
    "print(a3)\n",
    "print('\\n')"
   ]
  },
  {
   "cell_type": "code",
   "execution_count": 62,
   "id": "bca32f58-addd-47a8-9131-02909aa6924f",
   "metadata": {},
   "outputs": [
    {
     "name": "stdout",
     "output_type": "stream",
     "text": [
      "9\n",
      "6\n",
      "4\n",
      "5\n",
      "2\n",
      "0\n",
      "6\n"
     ]
    }
   ],
   "source": [
    "# Indexing ki practice means single value fetch\n",
    "\n",
    "print(a1[-1])\n",
    "print(a2[1, 2])\n",
    "print(a2[1, 0])\n",
    "print(a3[1,0,1])\n",
    "print(a3[0,1,0])\n",
    "print(a3[0,0,0])\n",
    "print(a3[1,1,0])"
   ]
  },
  {
   "cell_type": "code",
   "execution_count": 76,
   "id": "25d9c2fe-9e8b-4e1e-94b5-1ec1b504457c",
   "metadata": {},
   "outputs": [
    {
     "name": "stdout",
     "output_type": "stream",
     "text": [
      "[2 3 4]\n",
      "[0 1 2 3]\n",
      "[ 2  6 10]\n",
      "[[ 5  6]\n",
      " [ 9 10]]\n",
      "[[ 0  3]\n",
      " [ 8 11]]\n",
      "[[ 1  3]\n",
      " [ 9 11]]\n",
      "[4 7]\n",
      "[[1 2 3]\n",
      " [5 6 7]]\n"
     ]
    }
   ],
   "source": [
    "# Slicing means multiple values fetch at a time\n",
    "\n",
    "print(a1[2:5])\n",
    "print(a2[0,:])\n",
    "print(a2[:,2])\n",
    "print(a2[1:,1:3])\n",
    "\n",
    "# advanced slicing\n",
    "# when we want to extract multiple rows and columns\n",
    "print(a2[[0,2],:][:, [0,3]])\n",
    "print(a2[[0,2],:][:, [1,3]])\n",
    "\n",
    "\n",
    "print(a2[1, [0,3]])\n",
    "print(a2[0:2, 1:])\n",
    "\n",
    "\n"
   ]
  },
  {
   "cell_type": "code",
   "execution_count": 79,
   "id": "bab79dc9-63c0-4d50-a8fa-27e86f6b68fd",
   "metadata": {},
   "outputs": [
    {
     "name": "stdout",
     "output_type": "stream",
     "text": [
      "[[[ 0  1  2]\n",
      "  [ 3  4  5]\n",
      "  [ 6  7  8]]\n",
      "\n",
      " [[ 9 10 11]\n",
      "  [12 13 14]\n",
      "  [15 16 17]]\n",
      "\n",
      " [[18 19 20]\n",
      "  [21 22 23]\n",
      "  [24 25 26]]]\n"
     ]
    }
   ],
   "source": [
    "# 3d Slicing\n",
    "a3 = np.arange(27).reshape(3,3,3)\n",
    "print(a3)"
   ]
  },
  {
   "cell_type": "code",
   "execution_count": 92,
   "id": "837edfc9-7efa-4638-b9f8-100c5d80e0a6",
   "metadata": {},
   "outputs": [
    {
     "name": "stdout",
     "output_type": "stream",
     "text": [
      "[[ 9 10 11]\n",
      " [12 13 14]\n",
      " [15 16 17]]\n",
      "\n",
      "\n",
      "[[[ 0  1  2]\n",
      "  [ 3  4  5]\n",
      "  [ 6  7  8]]\n",
      "\n",
      " [[18 19 20]\n",
      "  [21 22 23]\n",
      "  [24 25 26]]]\n",
      "\n",
      "\n",
      "[3 4 5]\n",
      "\n",
      "\n",
      "[10 13 16]\n",
      "\n",
      "\n",
      "[[22 23]\n",
      " [25 26]]\n",
      "\n",
      "\n",
      "[[ 0  2]\n",
      " [18 20]]\n"
     ]
    }
   ],
   "source": [
    "print(a3[1])\n",
    "print('\\n')\n",
    "print(a3[[0,2]])\n",
    "print('\\n')\n",
    "print(a3[0,1, :])\n",
    "print('\\n')\n",
    "print(a3[1, :, 1])\n",
    "print('\\n')\n",
    "print(a3[2, 1:, 1:])\n",
    "print('\\n')\n",
    "print(a3[[0,2],0, :][:, [0,2]])\n"
   ]
  },
  {
   "cell_type": "markdown",
   "id": "5b50f718-2adf-4c95-89a8-e32201fa7b5f",
   "metadata": {},
   "source": [
    "# Iterating"
   ]
  },
  {
   "cell_type": "code",
   "execution_count": 93,
   "id": "e3f33c8f-c2a9-4544-a7f0-ea2bb58ba0e5",
   "metadata": {},
   "outputs": [
    {
     "name": "stdout",
     "output_type": "stream",
     "text": [
      "[0 1 2 3 4 5 6 7 8 9]\n",
      "\n",
      "\n",
      "[[ 0  1  2  3]\n",
      " [ 4  5  6  7]\n",
      " [ 8  9 10 11]]\n",
      "\n",
      "\n",
      "[[[0 1]\n",
      "  [2 3]]\n",
      "\n",
      " [[4 5]\n",
      "  [6 7]]]\n"
     ]
    }
   ],
   "source": [
    "a1 = np.arange(10)\n",
    "a2 = np.arange(12).reshape(3,4)\n",
    "a3 = np.arange(8).reshape(2,2,2)\n",
    "\n",
    "print(a1)\n",
    "print('\\n')\n",
    "print(a2)\n",
    "print('\\n')\n",
    "print(a3)\n"
   ]
  },
  {
   "cell_type": "code",
   "execution_count": 94,
   "id": "d37f8f3d-3828-4f81-91c3-2845c4836a6c",
   "metadata": {},
   "outputs": [
    {
     "name": "stdout",
     "output_type": "stream",
     "text": [
      "0\n",
      "1\n",
      "2\n",
      "3\n",
      "4\n",
      "5\n",
      "6\n",
      "7\n",
      "8\n",
      "9\n",
      "\n",
      "\n",
      "[0 1 2 3]\n",
      "[4 5 6 7]\n",
      "[ 8  9 10 11]\n",
      "\n",
      "\n",
      "[[0 1]\n",
      " [2 3]]\n",
      "[[4 5]\n",
      " [6 7]]\n"
     ]
    }
   ],
   "source": [
    "for i in a1:\n",
    "    print(i)\n",
    "print('\\n')\n",
    "for i in a2:\n",
    "    print(i)\n",
    "print('\\n')\n",
    "for i in a3:\n",
    "    print(i)"
   ]
  },
  {
   "cell_type": "code",
   "execution_count": 96,
   "id": "aa61e256-1742-47a4-8b7b-ead265a380cf",
   "metadata": {},
   "outputs": [
    {
     "name": "stdout",
     "output_type": "stream",
     "text": [
      "0\n",
      "1\n",
      "2\n",
      "3\n",
      "4\n",
      "5\n",
      "6\n",
      "7\n",
      "8\n",
      "9\n",
      "10\n",
      "11\n",
      "\n",
      "\n",
      "0\n",
      "1\n",
      "2\n",
      "3\n",
      "4\n",
      "5\n",
      "6\n",
      "7\n"
     ]
    }
   ],
   "source": [
    "# nditer convert 2d or 3d array into 1D and iterate them\n",
    "for i in np.nditer(a2):\n",
    "    print(i)\n",
    "\n",
    "print('\\n')\n",
    "\n",
    "for i in np.nditer(a3):\n",
    "    print(i)\n"
   ]
  },
  {
   "cell_type": "markdown",
   "id": "ea6779fd-3517-4066-a394-aaa6aeb45b96",
   "metadata": {},
   "source": [
    "## Reshaping\n"
   ]
  },
  {
   "cell_type": "code",
   "execution_count": 4,
   "id": "6a8aa7cb-eb72-4dc2-b4aa-03dd8b93f202",
   "metadata": {},
   "outputs": [
    {
     "name": "stdout",
     "output_type": "stream",
     "text": [
      "[[ 0  4  8]\n",
      " [ 1  5  9]\n",
      " [ 2  6 10]\n",
      " [ 3  7 11]]\n",
      "[[ 0  4  8]\n",
      " [ 1  5  9]\n",
      " [ 2  6 10]\n",
      " [ 3  7 11]]\n"
     ]
    }
   ],
   "source": [
    "#tranpose\n",
    "\n",
    "a1 = np.arange(12).reshape(3,4)\n",
    "t1 = np.transpose(a1)\n",
    "t2 = a1.T\n",
    "print(t2)\n",
    "print(t1)\n"
   ]
  },
  {
   "cell_type": "code",
   "execution_count": 13,
   "id": "eafebd01-f151-4ba2-b3dc-55cdd4244059",
   "metadata": {},
   "outputs": [
    {
     "name": "stdout",
     "output_type": "stream",
     "text": [
      "ravel\n",
      "[[ 0  1  2  3]\n",
      " [ 4  5  6  7]\n",
      " [ 8  9 10 11]]\n",
      "[ 0  1  2  3  4  5  6  7  8  9 10 11]\n",
      "[50  1  2  3  4  5  6  7  8  9 10 11]\n",
      "[[50  1  2  3]\n",
      " [ 4  5  6  7]\n",
      " [ 8  9 10 11]]\n",
      "\n",
      "\n",
      "flatten\n",
      "[12 13 14 15 16 17 18 19 20 21 22 23]\n",
      "[[12 13 14 15]\n",
      " [16 17 18 19]\n",
      " [20 21 22 23]]\n",
      "[1000   13   14   15   16   17   18   19   20   21   22   23]\n",
      "[[12 13 14 15]\n",
      " [16 17 18 19]\n",
      " [20 21 22 23]]\n"
     ]
    }
   ],
   "source": [
    "# ravel changes in original array also / flatten it create copy of the original array\n",
    "a1 = np.arange(12).reshape(3,4)\n",
    "a2 = np.arange(12,24).reshape(3,4)\n",
    "r = a1.ravel()\n",
    "print('ravel')\n",
    "print(a1)\n",
    "print(r)\n",
    "r[0] = 50\n",
    "print(r)\n",
    "print(a1)\n",
    "print('\\n')\n",
    "print('flatten')\n",
    "f = a2.flatten()\n",
    "print(f)\n",
    "print(a2)\n",
    "f[0] = 1000\n",
    "print(f)\n",
    "print(a2)\n",
    "\n",
    "\n"
   ]
  },
  {
   "cell_type": "markdown",
   "id": "d216343e-8a63-415d-b67c-46635c560f9a",
   "metadata": {},
   "source": [
    "## Stacking"
   ]
  },
  {
   "cell_type": "code",
   "execution_count": 14,
   "id": "17adb4b2-f194-4b7a-810c-1e578e8cec7d",
   "metadata": {},
   "outputs": [
    {
     "name": "stdout",
     "output_type": "stream",
     "text": [
      "[[ 0  1  2  3]\n",
      " [ 4  5  6  7]\n",
      " [ 8  9 10 11]]\n",
      "[[12 13 14 15]\n",
      " [16 17 18 19]\n",
      " [20 21 22 23]]\n"
     ]
    }
   ],
   "source": [
    "a1 = np.arange(12).reshape(3,4)\n",
    "a2 = np.arange(12,24).reshape(3,4)\n",
    "\n",
    "print(a1)\n",
    "print(a2)\n"
   ]
  },
  {
   "cell_type": "code",
   "execution_count": 15,
   "id": "341a2bb2-e93f-4fc7-9fba-ac7b205c4fa6",
   "metadata": {},
   "outputs": [
    {
     "name": "stdout",
     "output_type": "stream",
     "text": [
      "[[ 0  1  2  3 12 13 14 15]\n",
      " [ 4  5  6  7 16 17 18 19]\n",
      " [ 8  9 10 11 20 21 22 23]]\n"
     ]
    }
   ],
   "source": [
    "# hstack\n",
    "# if we have two array with the shape of 3x4 so output will be 3x8\n",
    "res1 = np.hstack((a1,a2))\n",
    "print(res1)\n"
   ]
  },
  {
   "cell_type": "code",
   "execution_count": 17,
   "id": "e7ea0a1b-e3fe-4a50-85f4-c5b1344aec00",
   "metadata": {},
   "outputs": [
    {
     "name": "stdout",
     "output_type": "stream",
     "text": [
      "[[ 0  1  2  3]\n",
      " [ 4  5  6  7]\n",
      " [ 8  9 10 11]\n",
      " [12 13 14 15]\n",
      " [16 17 18 19]\n",
      " [20 21 22 23]]\n"
     ]
    }
   ],
   "source": [
    "# vstack\n",
    "# if we have two array with the shape of 3x4 so output will be 6x4\n",
    "res2 = np.vstack((a1,a2))\n",
    "print(res2)"
   ]
  },
  {
   "cell_type": "markdown",
   "id": "91db6cee-e80d-4f8b-b892-494c0c5ad8f8",
   "metadata": {},
   "source": [
    "## Splitting"
   ]
  },
  {
   "cell_type": "code",
   "execution_count": 21,
   "id": "97e5fd54-b802-49c8-aad7-adf4d831cd65",
   "metadata": {},
   "outputs": [
    {
     "name": "stdout",
     "output_type": "stream",
     "text": [
      "[array([[ 0,  1,  2,  3],\n",
      "       [ 4,  5,  6,  7],\n",
      "       [ 8,  9, 10, 11]]), array([[12, 13, 14, 15],\n",
      "       [16, 17, 18, 19],\n",
      "       [20, 21, 22, 23]])]\n",
      "\n",
      "\n",
      "[array([[0, 1],\n",
      "       [4, 5],\n",
      "       [8, 9]]), array([[ 2,  3],\n",
      "       [ 6,  7],\n",
      "       [10, 11]]), array([[12, 13],\n",
      "       [16, 17],\n",
      "       [20, 21]]), array([[14, 15],\n",
      "       [18, 19],\n",
      "       [22, 23]])]\n"
     ]
    }
   ],
   "source": [
    "# horizontal splitting\n",
    "op1 = np.hsplit(res1,2)\n",
    "print(op1)\n",
    "print('\\n')\n",
    "op1 = np.hsplit(res1,4)\n",
    "print(op1)\n"
   ]
  },
  {
   "cell_type": "code",
   "execution_count": 24,
   "id": "22fb8694-0df4-405c-b835-bbe17f70336c",
   "metadata": {},
   "outputs": [
    {
     "name": "stdout",
     "output_type": "stream",
     "text": [
      "[array([[ 0,  1,  2,  3],\n",
      "       [ 4,  5,  6,  7],\n",
      "       [ 8,  9, 10, 11]]), array([[12, 13, 14, 15],\n",
      "       [16, 17, 18, 19],\n",
      "       [20, 21, 22, 23]])]\n",
      "\n",
      "\n",
      "[array([[0, 1, 2, 3],\n",
      "       [4, 5, 6, 7]]), array([[ 8,  9, 10, 11],\n",
      "       [12, 13, 14, 15]]), array([[16, 17, 18, 19],\n",
      "       [20, 21, 22, 23]])]\n"
     ]
    }
   ],
   "source": [
    "# vertical split\n",
    "op2 = np.vsplit(res2,2)\n",
    "print(op2)\n",
    "print('\\n')\n",
    "op3 = np.vsplit(res2,3)\n",
    "print(op3)"
   ]
  },
  {
   "cell_type": "markdown",
   "id": "67bc3fe0-03c2-483b-bad6-a3ee66f71da3",
   "metadata": {},
   "source": [
    "## Advanced Indexing"
   ]
  },
  {
   "cell_type": "code",
   "execution_count": 13,
   "id": "f8ecef2c-1f6a-4694-8cde-8d20481bc805",
   "metadata": {},
   "outputs": [
    {
     "name": "stdout",
     "output_type": "stream",
     "text": [
      "[[ 0  1  2]\n",
      " [ 3  4  5]\n",
      " [ 6  7  8]\n",
      " [ 9 10 11]]\n",
      "\n",
      "\n",
      "[[ 0  1  2]\n",
      " [ 6  7  8]\n",
      " [ 9 10 11]]\n",
      "\n",
      "\n",
      "[[ 0  1  2  3]\n",
      " [ 4  5  6  7]\n",
      " [ 8  9 10 11]\n",
      " [12 13 14 15]\n",
      " [16 17 18 19]\n",
      " [20 21 22 23]]\n",
      "\n",
      "\n",
      "[[ 0  1  2  3]\n",
      " [ 8  9 10 11]\n",
      " [12 13 14 15]\n",
      " [20 21 22 23]]\n",
      "\n",
      "\n",
      "[[ 0  2  3]\n",
      " [ 4  6  7]\n",
      " [ 8 10 11]\n",
      " [12 14 15]\n",
      " [16 18 19]\n",
      " [20 22 23]]\n"
     ]
    }
   ],
   "source": [
    "# Fancy Indexing\n",
    "a = np.arange(12).reshape(4,3)\n",
    "print(a)\n",
    "print(\"\\n\")\n",
    "print(a[[0,2,3]])\n",
    "print(\"\\n\")\n",
    "b = np.arange(24).reshape(6,4)\n",
    "print(b)\n",
    "print(\"\\n\")\n",
    "print(b[[0,2,3,5]])\n",
    "print(\"\\n\")\n",
    "print(b[:, [0,2,3]])\n"
   ]
  },
  {
   "cell_type": "code",
   "execution_count": 22,
   "id": "d5bbafa3-21c6-4fcd-a90e-ec81138d6d97",
   "metadata": {},
   "outputs": [
    {
     "name": "stdout",
     "output_type": "stream",
     "text": [
      "[[45 48 65 68]\n",
      " [68 10 84 22]\n",
      " [37 88 71 89]\n",
      " [89 13 59 66]\n",
      " [40 88 47 89]\n",
      " [82 38 26 78]]\n",
      "[65 68 68 84 88 71 89 89 59 66 88 89 82 78]\n",
      "[48 68 68 10 84 22 88 66 40 88 82 38 26 78]\n",
      "[68 68 84 88 66 88 82 78]\n",
      "[84]\n"
     ]
    }
   ],
   "source": [
    "# Boolean Indexing\n",
    "\n",
    "np.random.seed(0)\n",
    "a = np.random.randint(1,100,24).reshape(6,4)\n",
    "print(a)\n",
    "\n",
    "# find alll numbers greater than 50\n",
    "\n",
    "b = a[a > 50]\n",
    "print(b)\n",
    "\n",
    "# find out even numbers\n",
    "\n",
    "c = a[a % 2 == 0]\n",
    "print(c)\n",
    "\n",
    "# find alll numbers greater than 50 and are even\n",
    "\n",
    "c = a[(a > 50) & (a % 2 == 0)]\n",
    "print(c)\n",
    "\n",
    "# find all numers that are  divisile by 7\n",
    "\n",
    "d = a[a % 7 == 0]\n",
    "print(d)"
   ]
  },
  {
   "cell_type": "markdown",
   "id": "21560514-dccc-4cb9-82ed-44e0d22421f1",
   "metadata": {},
   "source": [
    "## Broadcasting"
   ]
  },
  {
   "cell_type": "code",
   "execution_count": 3,
   "id": "ed34fa1e-a1e8-4bf4-8eba-d3c50991b895",
   "metadata": {},
   "outputs": [
    {
     "name": "stdout",
     "output_type": "stream",
     "text": [
      "[[ 0  1  2]\n",
      " [ 3  4  5]\n",
      " [ 6  7  8]\n",
      " [ 9 10 11]]\n",
      "\n",
      "\n",
      "[0 1 2]\n",
      "\n",
      "\n",
      "[[ 0  2  4]\n",
      " [ 3  5  7]\n",
      " [ 6  8 10]\n",
      " [ 9 11 13]]\n"
     ]
    }
   ],
   "source": [
    "a = np.arange(12).reshape(4,3)\n",
    "b = np.arange(3)\n",
    "\n",
    "c = a + b\n",
    "print(a)\n",
    "print('\\n')\n",
    "print(b)\n",
    "print('\\n')\n",
    "print(c)\n"
   ]
  },
  {
   "cell_type": "code",
   "execution_count": 5,
   "id": "8c7b671a-9a0a-41b8-bc41-cb0b0be1c525",
   "metadata": {},
   "outputs": [
    {
     "name": "stdout",
     "output_type": "stream",
     "text": [
      "[[0 1 2]\n",
      " [1 2 3]\n",
      " [2 3 4]]\n"
     ]
    }
   ],
   "source": [
    "a = np.arange(3).reshape(1,3)\n",
    "b = np.arange(3).reshape(3,1)\n",
    "c = a + b\n",
    "print(c)\n"
   ]
  },
  {
   "cell_type": "code",
   "execution_count": 6,
   "id": "b3dea05b-ad26-49a5-aa5e-40235df35414",
   "metadata": {},
   "outputs": [
    {
     "name": "stdout",
     "output_type": "stream",
     "text": [
      "[[0 1 2]\n",
      " [1 2 3]\n",
      " [2 3 4]\n",
      " [3 4 5]]\n"
     ]
    }
   ],
   "source": [
    "a = np.arange(3).reshape(1,3)\n",
    "b = np.arange(4).reshape(4,1)\n",
    "c = a + b\n",
    "print(c)"
   ]
  },
  {
   "cell_type": "code",
   "execution_count": 7,
   "id": "438a5854-8b9e-4266-a9b2-1f19d57ac3c8",
   "metadata": {},
   "outputs": [
    {
     "name": "stdout",
     "output_type": "stream",
     "text": [
      "[[1 2]\n",
      " [3 4]]\n"
     ]
    }
   ],
   "source": [
    "a = np.array([[1]])\n",
    "b = np.arange(4).reshape(2,2)\n",
    "c = a + b\n",
    "print(c)"
   ]
  },
  {
   "cell_type": "code",
   "execution_count": 7,
   "id": "ae2f6eda-0964-4cc7-b3b4-8550d2d845aa",
   "metadata": {},
   "outputs": [
    {
     "ename": "ValueError",
     "evalue": "operands could not be broadcast together with shapes (4,3) (3,4) ",
     "output_type": "error",
     "traceback": [
      "\u001b[1;31m---------------------------------------------------------------------------\u001b[0m",
      "\u001b[1;31mValueError\u001b[0m                                Traceback (most recent call last)",
      "Cell \u001b[1;32mIn[7], line 3\u001b[0m\n\u001b[0;32m      1\u001b[0m a \u001b[38;5;241m=\u001b[39m np\u001b[38;5;241m.\u001b[39marange(\u001b[38;5;241m12\u001b[39m)\u001b[38;5;241m.\u001b[39mreshape(\u001b[38;5;241m4\u001b[39m,\u001b[38;5;241m3\u001b[39m)\n\u001b[0;32m      2\u001b[0m b \u001b[38;5;241m=\u001b[39m np\u001b[38;5;241m.\u001b[39marange(\u001b[38;5;241m12\u001b[39m)\u001b[38;5;241m.\u001b[39mreshape(\u001b[38;5;241m3\u001b[39m,\u001b[38;5;241m4\u001b[39m)\n\u001b[1;32m----> 3\u001b[0m c \u001b[38;5;241m=\u001b[39m a \u001b[38;5;241m+\u001b[39m b\n\u001b[0;32m      4\u001b[0m \u001b[38;5;28mprint\u001b[39m(c)\n",
      "\u001b[1;31mValueError\u001b[0m: operands could not be broadcast together with shapes (4,3) (3,4) "
     ]
    }
   ],
   "source": [
    "a = np.arange(12).reshape(4,3)\n",
    "b = np.arange(12).reshape(3,4)\n",
    "c = a + b\n",
    "print(c)"
   ]
  },
  {
   "cell_type": "markdown",
   "id": "ace031d7-8646-4e79-8b7e-40a0c220b891",
   "metadata": {},
   "source": [
    "## Missing Values"
   ]
  },
  {
   "cell_type": "code",
   "execution_count": 15,
   "id": "4afa6bfc-e4d1-4314-b1ad-3dc56869e963",
   "metadata": {},
   "outputs": [
    {
     "name": "stdout",
     "output_type": "stream",
     "text": [
      "[ 1.  2.  3.  4.  5. nan  6.  7.  8.]\n",
      "[False False False False False  True False False False]\n",
      "[1. 2. 3. 4. 5. 6. 7. 8.]\n"
     ]
    }
   ],
   "source": [
    "a = np.array([1,2,3,4,5,np.nan, 6,7,8])\n",
    "print(a)\n",
    "b = np.isnan(a)\n",
    "print(b)\n",
    "c = a[~np.isnan(a)]\n",
    "print(c)"
   ]
  },
  {
   "cell_type": "code",
   "execution_count": 17,
   "id": "e129da8b-0702-45f1-a779-dd3080bf6d3a",
   "metadata": {
    "scrolled": true
   },
   "outputs": [
    {
     "name": "stdout",
     "output_type": "stream",
     "text": [
      "[False False  True False  True]\n",
      "[1. 2. 4.]\n"
     ]
    }
   ],
   "source": [
    "arr = np.array([1,2, np.inf, 4, -np.inf])\n",
    "a = np.isinf(arr)\n",
    "print(a)\n",
    "b = arr[~np.isinf(arr)]\n",
    "print(b)"
   ]
  },
  {
   "cell_type": "code",
   "execution_count": 25,
   "id": "062d66f7-c55b-4226-9eb3-e043252eb58e",
   "metadata": {},
   "outputs": [
    {
     "name": "stdout",
     "output_type": "stream",
     "text": [
      "[    1.     2.     3.     4.     5. 10000.     6.     7.     8.]\n"
     ]
    }
   ],
   "source": [
    "a = np.array([1,2,3,4,5,np.nan, 6,7,8])\n",
    "clean = np.nan_to_num(a, nan=10000)\n",
    "print(clean)"
   ]
  },
  {
   "cell_type": "code",
   "execution_count": 26,
   "id": "64726734-38c1-4c92-9f42-d67c7b0e96ef",
   "metadata": {},
   "outputs": [
    {
     "name": "stdout",
     "output_type": "stream",
     "text": [
      "[     1.      2.  10000.      4. -10000.]\n"
     ]
    }
   ],
   "source": [
    "arr = np.array([1,2, np.inf, 4, -np.inf])\n",
    "clean = np.nan_to_num(arr, posinf=10000, neginf=-10000)\n",
    "print(clean)"
   ]
  },
  {
   "cell_type": "markdown",
   "id": "c037c7ef-d09b-4e63-923c-28d05c2d2a6f",
   "metadata": {},
   "source": [
    "## Functions in Numpy"
   ]
  },
  {
   "cell_type": "code",
   "execution_count": 2,
   "id": "d5b65f37-86c5-4984-9c98-bf6b0b0ead55",
   "metadata": {},
   "outputs": [
    {
     "name": "stdout",
     "output_type": "stream",
     "text": [
      "[15 20 35 15 42  2 19 35 10 32]\n",
      "[ 2 10 15 15 19 20 32 35 35 42]\n"
     ]
    }
   ],
   "source": [
    "# sort\n",
    "# 1D\n",
    "a = np.random.randint(1,50,10)\n",
    "b = np.sort(a)\n",
    "print(a)\n",
    "print(b)\n"
   ]
  },
  {
   "cell_type": "code",
   "execution_count": 4,
   "id": "fe1feea1-af23-46f2-aec4-e990fb1286be",
   "metadata": {},
   "outputs": [
    {
     "name": "stdout",
     "output_type": "stream",
     "text": [
      "[[39 17 24 20]\n",
      " [ 8 96 81 22]\n",
      " [ 8 59 79 86]\n",
      " [33 22 97 66]\n",
      " [62 92 29 15]\n",
      " [88 45 91 19]]\n",
      "Columns wise sorting\n",
      "[[ 8 17 24 15]\n",
      " [ 8 22 29 19]\n",
      " [33 45 79 20]\n",
      " [39 59 81 22]\n",
      " [62 92 91 66]\n",
      " [88 96 97 86]]\n",
      "Row wise sorting\n",
      "[[17 20 24 39]\n",
      " [ 8 22 81 96]\n",
      " [ 8 59 79 86]\n",
      " [22 33 66 97]\n",
      " [15 29 62 92]\n",
      " [19 45 88 91]]\n"
     ]
    }
   ],
   "source": [
    "# sorting in 2d\n",
    "a = np.random.randint(1,100,24).reshape(6,4)\n",
    "print(a)\n",
    "print('Columns wise sorting')\n",
    "b = np.sort(a, axis=0)\n",
    "print(b)\n",
    "print('Row wise sorting')\n",
    "c = np.sort(a, axis=1)\n",
    "print(c)"
   ]
  },
  {
   "cell_type": "code",
   "execution_count": 9,
   "id": "30d04f1c-29d7-49dd-a9e6-99869103f054",
   "metadata": {},
   "outputs": [
    {
     "name": "stdout",
     "output_type": "stream",
     "text": [
      "[44  4 20 49  1 19 38 43  5  1]\n",
      "[ 44   4  20  49   1  19  38  43   5   1 -10]\n"
     ]
    }
   ],
   "source": [
    "# Append\n",
    "# 1d\n",
    "a = np.random.randint(1,50,10)\n",
    "print(a)\n",
    "a = np.append(a, -10)\n",
    "print(a)"
   ]
  },
  {
   "cell_type": "code",
   "execution_count": 16,
   "id": "14a6bdc4-4661-4b82-8949-ff48d5d860c0",
   "metadata": {
    "scrolled": true
   },
   "outputs": [
    {
     "name": "stdout",
     "output_type": "stream",
     "text": [
      "[[87 50 49 76]\n",
      " [94 90 32 84]\n",
      " [62 94 61 70]\n",
      " [89 29 30 65]\n",
      " [69 63 59 30]\n",
      " [89 31 96 69]]\n",
      "After appending\n",
      "[[87 50 49 76]\n",
      " [94 90 32 84]\n",
      " [62 94 61 70]\n",
      " [89 29 30 65]\n",
      " [69 63 59 30]\n",
      " [89 31 96 69]\n",
      " [ 0  1  2  3]]\n",
      "[[87 50 49 76  0]\n",
      " [94 90 32 84  0]\n",
      " [62 94 61 70  0]\n",
      " [89 29 30 65  0]\n",
      " [69 63 59 30  0]\n",
      " [89 31 96 69  0]\n",
      " [ 0  1  2  3  0]]\n",
      "[[87. 50. 49. 76.  1.]\n",
      " [94. 90. 32. 84.  1.]\n",
      " [62. 94. 61. 70.  1.]\n",
      " [89. 29. 30. 65.  1.]\n",
      " [69. 63. 59. 30.  1.]\n",
      " [89. 31. 96. 69.  1.]\n",
      " [ 0.  1.  2.  3.  1.]]\n"
     ]
    }
   ],
   "source": [
    "# 2d\n",
    "\n",
    "a = np.random.randint(1,100,24).reshape(6,4)\n",
    "print(a)\n",
    "print('After appending')\n",
    "a = np.append(a,  [[0,1,2,3]], axis=0 )\n",
    "print(a)\n",
    "\n",
    "b = np.append(a, [[0],[0],[0],[0],[0],[0],[0]] , axis=1)\n",
    "print(b)\n",
    "# Another way to do that\n",
    "c = np.append(a, np.ones((7,1)) , axis=1)\n",
    "print(c)\n"
   ]
  },
  {
   "cell_type": "code",
   "execution_count": 24,
   "id": "9a177c58-5962-440f-93db-488a33a6545a",
   "metadata": {
    "scrolled": true
   },
   "outputs": [
    {
     "name": "stdout",
     "output_type": "stream",
     "text": [
      "[0 1 2 3 4 5]\n",
      "[ 6  7  8  9 10 11]\n",
      "[ 0  1  2  3  4  5  6  7  8  9 10 11]\n"
     ]
    }
   ],
   "source": [
    "# concatenate\n",
    "# 1d\n",
    "\n",
    "a = np.arange(6)\n",
    "b = np.arange(6,12)\n",
    "\n",
    "print(a)\n",
    "print(b)\n",
    "\n",
    "c = np.concatenate((a,b))\n",
    "print(c)"
   ]
  },
  {
   "cell_type": "code",
   "execution_count": 25,
   "id": "3b6ce288-5d04-43d6-9f5d-232f919b5ee1",
   "metadata": {},
   "outputs": [
    {
     "name": "stdout",
     "output_type": "stream",
     "text": [
      "[[0 1 2]\n",
      " [3 4 5]]\n",
      "[[ 6  7  8]\n",
      " [ 9 10 11]]\n",
      "After Concatnate\n",
      "[[ 0  1  2]\n",
      " [ 3  4  5]\n",
      " [ 6  7  8]\n",
      " [ 9 10 11]]\n",
      "[[ 0  1  2  6  7  8]\n",
      " [ 3  4  5  9 10 11]]\n"
     ]
    }
   ],
   "source": [
    "# concatenate\n",
    "# 2d\n",
    "a = np.arange(6).reshape(2,3)\n",
    "b = np.arange(6,12).reshape(2,3)\n",
    "print(a)\n",
    "print(b)\n",
    "print('After Concatnate')\n",
    "c = np.concatenate((a,b), axis=0)\n",
    "print(c)\n",
    "d = np.concatenate((a,b), axis=1)\n",
    "print(d)\n"
   ]
  },
  {
   "cell_type": "code",
   "execution_count": 47,
   "id": "b51f057d-4061-48e2-9dc2-2828ca2f7078",
   "metadata": {},
   "outputs": [
    {
     "name": "stdout",
     "output_type": "stream",
     "text": [
      "[[ 0  1  2]\n",
      " [ 3  4  5]\n",
      " [ 6  7  8]\n",
      " [ 9 10 11]]\n",
      "[[  0   1   2]\n",
      " [100 100 100]\n",
      " [  3   4   5]\n",
      " [  6   7   8]\n",
      " [  9  10  11]]\n",
      "[[   0 -100    1    2]\n",
      " [ 100 -100  100  100]\n",
      " [   3 -100    4    5]\n",
      " [   6 -100    7    8]\n",
      " [   9 -100   10   11]]\n"
     ]
    }
   ],
   "source": [
    "# Insert at specific position\n",
    "# 2d\n",
    "a = np.arange(12).reshape(4,3)\n",
    "print(a)\n",
    "\n",
    "b = np.insert(a,1, [100,100,100], axis=0)\n",
    "print(b)\n",
    "\n",
    "c = np.insert(b,1,[-100,-100,-100,-100,-100], axis=1)\n",
    "print(c)"
   ]
  },
  {
   "cell_type": "code",
   "execution_count": 26,
   "id": "c4e71f9a-6fbb-4d31-9217-0f3618619189",
   "metadata": {},
   "outputs": [
    {
     "name": "stdout",
     "output_type": "stream",
     "text": [
      "[ 0  1  2  3  4  5  7  9 10]\n"
     ]
    }
   ],
   "source": [
    "# unique\n",
    "a = np.array([1,2,1,2,3,4,5,4,5,7,9,0,10,])\n",
    "b = np.unique(a)\n",
    "print(b)"
   ]
  },
  {
   "cell_type": "code",
   "execution_count": 31,
   "id": "aa074ab6-4411-48e5-9d47-20ff95f5c325",
   "metadata": {},
   "outputs": [
    {
     "name": "stdout",
     "output_type": "stream",
     "text": [
      "(13,)\n",
      "[[ 1  2  1  2  3  4  5  4  5  7  9  0 10]]\n",
      "(1, 13)\n",
      "[[ 1]\n",
      " [ 2]\n",
      " [ 1]\n",
      " [ 2]\n",
      " [ 3]\n",
      " [ 4]\n",
      " [ 5]\n",
      " [ 4]\n",
      " [ 5]\n",
      " [ 7]\n",
      " [ 9]\n",
      " [ 0]\n",
      " [10]]\n",
      "(13, 1)\n"
     ]
    }
   ],
   "source": [
    "# expand_dims ye covert karta hai 1d to 2d 2d to 3d and so on\n",
    "\n",
    "a = np.array([1,2,1,2,3,4,5,4,5,7,9,0,10,])\n",
    "print(a.shape)\n",
    "b = np.expand_dims(a, axis=0)\n",
    "print(b)\n",
    "print(b.shape)\n",
    "c = np.expand_dims(a, axis=1)\n",
    "print(c)\n",
    "print(c.shape)"
   ]
  },
  {
   "cell_type": "code",
   "execution_count": 34,
   "id": "612c9f34-653e-4192-90b8-f45c17271852",
   "metadata": {},
   "outputs": [
    {
     "name": "stdout",
     "output_type": "stream",
     "text": [
      "[52 42 29 93 43 54 71 45 39 64]\n",
      "(array([0, 3, 5, 6, 9]),)\n",
      "[ 0 42 29  0 43  0  0 45 39  0]\n"
     ]
    }
   ],
   "source": [
    "# np.where means ye return karta hai indices jo condition full fill hogi\n",
    "# find all indeices whose value greater than 50\n",
    "a = np.random.randint(1,100,10)\n",
    "print(a)\n",
    "b = np.where(a>50)\n",
    "print(b)\n",
    "# Replace all values greater than 50 with 0\n",
    "c = np.where(a>50, 0, a)\n",
    "print(c)\n"
   ]
  },
  {
   "cell_type": "code",
   "execution_count": 49,
   "id": "0f3d08af-2183-441e-bc02-5282bf6e2626",
   "metadata": {},
   "outputs": [
    {
     "name": "stdout",
     "output_type": "stream",
     "text": [
      "[25 71 32 10 88 73 35 54 86 33]\n",
      "4\n",
      "3\n"
     ]
    }
   ],
   "source": [
    "# np.argmax() ye return kareta hai max element ka index\n",
    "# np.argmin() ye return kareta hai min element ka index\n",
    "# 1d\n",
    "a = np.random.randint(1,100,10)\n",
    "b = np.argmax(a)\n",
    "c = np.argmin(a)\n",
    "print(a)\n",
    "print(b)\n",
    "print(c)"
   ]
  },
  {
   "cell_type": "code",
   "execution_count": 51,
   "id": "bded22bc-851a-44a7-aeb9-5249469eb344",
   "metadata": {},
   "outputs": [
    {
     "name": "stdout",
     "output_type": "stream",
     "text": [
      "[[72 25 23]\n",
      " [23 88 78]\n",
      " [33 96 99]\n",
      " [ 3 86 85]]\n",
      "[0 2 2]\n",
      "[2 0 0 0]\n"
     ]
    }
   ],
   "source": [
    "# 2d\n",
    "a = np.random.randint(1,100,12).reshape(4,3)\n",
    "print(a)\n",
    "b = np.argmax(a, axis=0)\n",
    "c = np.argmin(a, axis=1)\n",
    "print(b)\n",
    "print(c)"
   ]
  },
  {
   "cell_type": "code",
   "execution_count": 53,
   "id": "a4f293fd-308e-4b0e-91a1-baf18975834e",
   "metadata": {},
   "outputs": [
    {
     "name": "stdout",
     "output_type": "stream",
     "text": [
      "[ 0  1  3  6 10]\n",
      "[[ 1 81 97]\n",
      " [27 83 50]\n",
      " [42 67 84]\n",
      " [64 22 93]]\n",
      "[[  1  81  97]\n",
      " [ 28 164 147]\n",
      " [ 70 231 231]\n",
      " [134 253 324]]\n",
      "[[  1  82 179]\n",
      " [ 27 110 160]\n",
      " [ 42 109 193]\n",
      " [ 64  86 179]]\n"
     ]
    }
   ],
   "source": [
    "# np.cumsum(),commulative sum     np.cumprod ye bilkul wasai hai bas ye product karta hai simple\n",
    "# 1d\n",
    "x = np.arange(5)\n",
    "y = np.cumsum(x)\n",
    "print(y)\n",
    "\n",
    "# 2d\n",
    "a = np.random.randint(1,100,12).reshape(4,3)\n",
    "print(a)\n",
    "b = np.cumsum(a, axis=0)\n",
    "c = np.cumsum(a, axis=1)\n",
    "print(b)\n",
    "print(c)"
   ]
  },
  {
   "cell_type": "code",
   "execution_count": 55,
   "id": "8b3d1582-c22a-4c4d-8ad7-bf6f400db85a",
   "metadata": {},
   "outputs": [
    {
     "name": "stdout",
     "output_type": "stream",
     "text": [
      "[False  True  True  True False False False False False False]\n",
      "[1 2 3]\n"
     ]
    }
   ],
   "source": [
    "# np.isin() multiple values check karte hai hmm aik sath  ke us array me hai ya nhi\n",
    "\n",
    "a = np.arange(10)\n",
    "item = [10,1,2,3,12]\n",
    "c = np.isin(a,item)\n",
    "print(c)\n",
    "c = a[np.isin(a,item)]\n",
    "print(c)"
   ]
  },
  {
   "cell_type": "code",
   "execution_count": 58,
   "id": "c22ef78e-7886-455e-a97b-be7f64013f77",
   "metadata": {},
   "outputs": [
    {
     "name": "stdout",
     "output_type": "stream",
     "text": [
      "[0 1 2 3 4 5 6 7 8 9]\n",
      "[9 8 7 6 5 4 3 2 1 0]\n",
      "[[ 0  1  2]\n",
      " [ 3  4  5]\n",
      " [ 6  7  8]\n",
      " [ 9 10 11]]\n",
      "[[ 9 10 11]\n",
      " [ 6  7  8]\n",
      " [ 3  4  5]\n",
      " [ 0  1  2]]\n",
      "[[ 2  1  0]\n",
      " [ 5  4  3]\n",
      " [ 8  7  6]\n",
      " [11 10  9]]\n"
     ]
    }
   ],
   "source": [
    "# flip reverse the order but maintain its shape\n",
    "# 1d\n",
    "a = np.arange(10)\n",
    "print(a)\n",
    "b = np.flip(a)\n",
    "print(b)\n",
    "\n",
    "# 2d \n",
    "a = np.arange(12).reshape(4,3)\n",
    "print(a)\n",
    "b = np.flip(a, axis = 0)\n",
    "print(b)\n",
    "c = np.flip(a, axis = 1)\n",
    "print(c)"
   ]
  },
  {
   "cell_type": "code",
   "execution_count": 60,
   "id": "e3d64ac3-ddcf-4c15-81d2-d0e8b2a2a403",
   "metadata": {},
   "outputs": [
    {
     "name": "stdout",
     "output_type": "stream",
     "text": [
      "[0 1 2 3 4 5 6 7 8 9]\n",
      "[100 110   2   3   4   5   6   7   8   9]\n",
      "[[100   1 100   3]\n",
      " [  4   5   6   7]\n",
      " [  8   9  10 100]]\n"
     ]
    }
   ],
   "source": [
    "# np.put() yr direct original array me change karega\n",
    "a = np.arange(10)\n",
    "print(a)\n",
    "np.put(a, [0,1], [100,110])\n",
    "print(a)\n",
    "\n",
    "b = np.arange(12).reshape(3,4)\n",
    "np.put(b, [0,2,11], [100,100,100])\n",
    "print(b)"
   ]
  },
  {
   "cell_type": "code",
   "execution_count": 64,
   "id": "db348cd0-51ac-475f-8360-3310b2c4890a",
   "metadata": {},
   "outputs": [
    {
     "name": "stdout",
     "output_type": "stream",
     "text": [
      "[0 1 2 3 4 5 6 7 8 9]\n",
      "[2 3 4 5 6 7 8 9]\n",
      "2d\n",
      "[[ 0  1  2]\n",
      " [ 3  4  5]\n",
      " [ 6  7  8]\n",
      " [ 9 10 11]]\n",
      "[[ 3  4  5]\n",
      " [ 6  7  8]\n",
      " [ 9 10 11]]\n",
      "[[ 1  2]\n",
      " [ 4  5]\n",
      " [ 7  8]\n",
      " [10 11]]\n"
     ]
    }
   ],
   "source": [
    "# np.delete()\n",
    "# 1d\n",
    "a = np.arange(10)\n",
    "print(a)\n",
    "b = np.delete(a, [0,1])\n",
    "print(b)\n",
    "\n",
    "# 2d\n",
    "print('2d')\n",
    "a = np.arange(12).reshape(4,3)\n",
    "print(a)\n",
    "b = np.delete(a, 0, 0)\n",
    "print(b)\n",
    "c = np.delete(a, 0, 1)\n",
    "print(c)"
   ]
  },
  {
   "cell_type": "markdown",
   "id": "b2d8fb51-a19e-4d7f-aed6-e7f591c8a62c",
   "metadata": {},
   "source": [
    "## Set Functions"
   ]
  },
  {
   "cell_type": "code",
   "execution_count": 71,
   "id": "2bc8ee9b-51d5-4b30-8381-d9114c7b2ca0",
   "metadata": {},
   "outputs": [
    {
     "name": "stdout",
     "output_type": "stream",
     "text": [
      "[ 1  2  3  4  5  6  7  8 10]\n",
      "[3 4 5 6 7 8]\n",
      "[1 2]\n",
      "[ 1  2 10]\n"
     ]
    }
   ],
   "source": [
    "# np.union1d\n",
    "# np.intersect1d\n",
    "# np.setdiff1d\n",
    "# np.setxor1d\n",
    "# np.in1d\n",
    "\n",
    "a = np.array([1,2,3,4,5,6,7,8])\n",
    "b = np.array([3,4,5,6,7,8,8,10])\n",
    "\n",
    "c = np.union1d(a,b)\n",
    "print(c)\n",
    "\n",
    "d = np.intersect1d(a,b)\n",
    "print(d)\n",
    "\n",
    "e = np.setdiff1d(a,b)\n",
    "print(e)\n",
    "\n",
    "f = np.setxor1d(a,b)\n",
    "print(f)\n"
   ]
  },
  {
   "cell_type": "code",
   "execution_count": null,
   "id": "d9cedab9-265d-47c5-bd91-05929bccd6e1",
   "metadata": {},
   "outputs": [],
   "source": []
  }
 ],
 "metadata": {
  "kernelspec": {
   "display_name": "Python 3 (ipykernel)",
   "language": "python",
   "name": "python3"
  },
  "language_info": {
   "codemirror_mode": {
    "name": "ipython",
    "version": 3
   },
   "file_extension": ".py",
   "mimetype": "text/x-python",
   "name": "python",
   "nbconvert_exporter": "python",
   "pygments_lexer": "ipython3",
   "version": "3.13.5"
  }
 },
 "nbformat": 4,
 "nbformat_minor": 5
}
